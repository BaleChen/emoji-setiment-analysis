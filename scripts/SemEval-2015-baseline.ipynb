{
 "cells": [
  {
   "cell_type": "code",
   "execution_count": null,
   "id": "f3fd1e67",
   "metadata": {},
   "outputs": [],
   "source": [
    "import pandas as pd\n",
    "import numpy as np\n",
    "import torch\n",
    "import torch.nn as nn\n",
    "import torch.nn.functional as F\n",
    "from nltk.corpus import stopwords \n",
    "from collections import Counter\n",
    "import string\n",
    "import re\n",
    "import seaborn as sns\n",
    "from tqdm import tqdm\n",
    "from collections import defaultdict\n",
    "import matplotlib.pyplot as plt\n",
    "from torch.utils.data import TensorDataset, DataLoader, Dataset\n",
    "from sklearn.model_selection import train_test_split"
   ]
  },
  {
   "cell_type": "code",
   "execution_count": null,
   "id": "d4caf75a",
   "metadata": {},
   "outputs": [],
   "source": [
    "data = pd.read_excel('Data/SemEval-2015-Scraped.xlsx')[['content', 'label']]"
   ]
  },
  {
   "cell_type": "code",
   "execution_count": null,
   "id": "cecbbac3",
   "metadata": {
    "scrolled": true
   },
   "outputs": [],
   "source": [
    "data.plot.kde()"
   ]
  },
  {
   "cell_type": "code",
   "execution_count": null,
   "id": "f1e48047",
   "metadata": {},
   "outputs": [],
   "source": [
    "labels = data.label.to_numpy()\n",
    "print(np.mean(labels),np.std(labels))"
   ]
  },
  {
   "cell_type": "code",
   "execution_count": null,
   "id": "2abffbfa",
   "metadata": {},
   "outputs": [],
   "source": [
    "import torch\n",
    "import random\n",
    "\n",
    "SEED = 2022\n",
    "\n",
    "random.seed(SEED)\n",
    "np.random.seed(SEED)\n",
    "torch.manual_seed(SEED)"
   ]
  },
  {
   "cell_type": "code",
   "execution_count": null,
   "id": "bbd6c92b",
   "metadata": {},
   "outputs": [],
   "source": [
    "from transformers import BertTokenizer, BertModel"
   ]
  },
  {
   "cell_type": "code",
   "execution_count": null,
   "id": "b6394927",
   "metadata": {},
   "outputs": [],
   "source": [
    "tokenizer = BertTokenizer.from_pretrained('bert-base-uncased')"
   ]
  },
  {
   "cell_type": "code",
   "execution_count": null,
   "id": "8f2990a9",
   "metadata": {},
   "outputs": [],
   "source": [
    "tokenizer('I love it 😄')"
   ]
  },
  {
   "cell_type": "code",
   "execution_count": null,
   "id": "3cb9fb6f",
   "metadata": {},
   "outputs": [],
   "source": [
    "# Load the special tokens and configurations\n",
    "init_token = tokenizer.cls_token\n",
    "eos_token = tokenizer.sep_token\n",
    "pad_token = tokenizer.pad_token\n",
    "unk_token = tokenizer.unk_token\n",
    "\n",
    "init_token_idx = tokenizer.cls_token_id\n",
    "eos_token_idx = tokenizer.sep_token_id\n",
    "pad_token_idx = tokenizer.pad_token_id\n",
    "unk_token_idx = tokenizer.unk_token_id\n",
    "\n",
    "max_input_length = tokenizer.max_model_input_sizes['bert-base-uncased']\n"
   ]
  },
  {
   "cell_type": "code",
   "execution_count": null,
   "id": "c0d57437",
   "metadata": {},
   "outputs": [],
   "source": [
    "def tokenize_and_cut(sentence):\n",
    "    tokens = tokenizer.tokenize(sentence) \n",
    "    tokens = tokens[:max_input_length-2]\n",
    "    return tokens"
   ]
  },
  {
   "cell_type": "code",
   "execution_count": null,
   "id": "a1fc3350",
   "metadata": {},
   "outputs": [],
   "source": [
    "X,y = data['content'].values, pd.concat([data['label'] >= 0, data['label'] < 0], axis = 1).values\n",
    "X_train, X_test, y_train, y_test = train_test_split(X, y, stratify = y)\n",
    "print(f'shape of train data is {X_train.shape}')\n",
    "print(f'shape of test data is {X_test.shape}')"
   ]
  },
  {
   "cell_type": "code",
   "execution_count": null,
   "id": "fba784c4",
   "metadata": {},
   "outputs": [],
   "source": [
    "dd = pd.Series(y_train).value_counts()\n",
    "sns.barplot(x=np.array(['negative','positive']),y=dd.values)\n",
    "plt.show()"
   ]
  },
  {
   "cell_type": "code",
   "execution_count": null,
   "id": "572e9462",
   "metadata": {},
   "outputs": [],
   "source": [
    "def preprocess_string(s):\n",
    "    # This cleans out all emojis!!!\n",
    "    # Remove all non-word characters (everything except numbers and letters)\n",
    "    s = re.sub(r\"[^\\w\\s]\", '', s)\n",
    "    # Replace all runs of whitespaces with no space\n",
    "    s = re.sub(r\"\\s+\", '', s)\n",
    "    # replace digits with no space\n",
    "    s = re.sub(r\"\\d\", '', s)\n",
    "\n",
    "    return s\n",
    "\n",
    "def tokenize(x_train,y_train,x_val,y_val):\n",
    "#     word_list = []\n",
    "\n",
    "#     stop_words = set(stopwords.words('english')) \n",
    "#     for sent in x_train:\n",
    "#         for word in sent.lower().split():\n",
    "#             word = preprocess_string(word)\n",
    "#             if word not in stop_words and word != '':\n",
    "#                 word_list.append(word)\n",
    "  \n",
    "#     corpus = Counter(word_list)\n",
    "#     # sorting on the basis of most common words\n",
    "#     corpus_ = sorted(corpus,key=corpus.get,reverse=True)[:1000]\n",
    "#     # creating a dict\n",
    "#     onehot_dict = {w:i+1 for i,w in enumerate(corpus_)}\n",
    "    \n",
    "#     # tockenize\n",
    "#     final_list_train,final_list_test = [],[]\n",
    "#     for sent in x_train:\n",
    "#             final_list_train.append([onehot_dict[preprocess_string(word)] for word in sent.lower().split() \n",
    "#                                      if preprocess_string(word) in onehot_dict.keys()])\n",
    "#     for sent in x_val:\n",
    "#             final_list_test.append([onehot_dict[preprocess_string(word)] for word in sent.lower().split() \n",
    "#                                     if preprocess_string(word) in onehot_dict.keys()])\n",
    "    final_list_train, final_list_test = [], []\n",
    "    for sent_1 in x_train:\n",
    "        final_list_train = tokenizer(preprocess_string(sent_1))\n",
    "    for sent_2 in x_val:\n",
    "        final_list_test = tokenizer(preprocess_string(sent_2))\n",
    "        \n",
    "    encoded_train = [1 if label == True else 0 for label in y_train]  \n",
    "    encoded_test = [1 if label == True else 0 for label in y_val]\n",
    "    \n",
    "    return np.array(final_list_train), np.array(encoded_train),np.array(final_list_test), np.array(encoded_test)"
   ]
  },
  {
   "cell_type": "code",
   "execution_count": null,
   "id": "e8de1c4c",
   "metadata": {},
   "outputs": [],
   "source": [
    "token_lens = []\n",
    "\n",
    "for txt in data['content']:\n",
    "    tokens = tokenizer.encode(txt, max_length=512)\n",
    "    token_lens.append(len(tokens))"
   ]
  },
  {
   "cell_type": "code",
   "execution_count": null,
   "id": "11638982",
   "metadata": {
    "scrolled": true
   },
   "outputs": [],
   "source": [
    "sns.distplot(token_lens)\n",
    "plt.xlim([0, 256]);\n",
    "plt.xlabel('Token count');\n",
    "print(max(token_lens))"
   ]
  },
  {
   "cell_type": "code",
   "execution_count": null,
   "id": "8d7107dd",
   "metadata": {},
   "outputs": [],
   "source": [
    "class TweetDataset(Dataset):\n",
    "\n",
    "    def __init__(self, tweets, targets, tokenizer, max_len):\n",
    "        self.tweets = tweets\n",
    "        self.targets = targets\n",
    "        self.tokenizer = tokenizer\n",
    "        self.max_len = max_len\n",
    "\n",
    "    def __len__(self):\n",
    "        return len(self.tweets)\n",
    "\n",
    "    def __getitem__(self, item):\n",
    "        tweets = str(self.tweets[item])\n",
    "        target = self.targets[item]\n",
    "\n",
    "        encoding = self.tokenizer.encode_plus(\n",
    "          tweets,\n",
    "          add_special_tokens=True,\n",
    "          max_length=self.max_len,\n",
    "          return_token_type_ids=False,\n",
    "          padding='max_length',\n",
    "          return_attention_mask=True,\n",
    "          return_tensors='pt',\n",
    "        )\n",
    "\n",
    "        return {\n",
    "          'tweet_text': tweets,\n",
    "          'input_ids': encoding['input_ids'].flatten(),\n",
    "          'attention_mask': encoding['attention_mask'].flatten(),\n",
    "          'targets': torch.tensor(target, dtype=torch.float32)\n",
    "        }"
   ]
  },
  {
   "cell_type": "code",
   "execution_count": null,
   "id": "2ec2431b",
   "metadata": {},
   "outputs": [],
   "source": [
    "def create_data_loader(X, y, tokenizer, max_len, batch_size):\n",
    "    ds = TweetDataset(\n",
    "    tweets=X,\n",
    "    targets=y,\n",
    "    tokenizer=tokenizer,\n",
    "    max_len=max_len\n",
    "    )\n",
    "\n",
    "    return DataLoader(\n",
    "    ds,\n",
    "    batch_size=batch_size)"
   ]
  },
  {
   "cell_type": "code",
   "execution_count": null,
   "id": "f9f3e606",
   "metadata": {},
   "outputs": [],
   "source": [
    "BATCH_SIZE = 16\n",
    "MAX_LEN = 128\n",
    "\n",
    "train_data_loader = create_data_loader(X_train, y_train, tokenizer, MAX_LEN, BATCH_SIZE)\n",
    "test_data_loader = create_data_loader(X_test, y_test, tokenizer, MAX_LEN, BATCH_SIZE)"
   ]
  },
  {
   "cell_type": "code",
   "execution_count": null,
   "id": "f1fd9735",
   "metadata": {},
   "outputs": [],
   "source": [
    "len(train_data_loader)"
   ]
  },
  {
   "cell_type": "code",
   "execution_count": null,
   "id": "41a44812",
   "metadata": {},
   "outputs": [],
   "source": [
    "dataiter = iter(train_data_loader)\n",
    "sample = dataiter.next()\n",
    "print(sample.keys())\n",
    "print(sample['input_ids'].shape)\n",
    "print(sample['attention_mask'].shape)\n",
    "print(sample['targets'].shape)"
   ]
  },
  {
   "cell_type": "markdown",
   "id": "c5d8749f",
   "metadata": {},
   "source": [
    "## Model"
   ]
  },
  {
   "cell_type": "code",
   "execution_count": null,
   "id": "3a876e2c",
   "metadata": {
    "scrolled": false
   },
   "outputs": [],
   "source": [
    "bert = BertModel.from_pretrained('bert-base-uncased')"
   ]
  },
  {
   "cell_type": "code",
   "execution_count": null,
   "id": "57e7347c",
   "metadata": {},
   "outputs": [],
   "source": [
    "trial = nn.LSTM(input_size=768,\n",
    "       hidden_size=512,\n",
    "       num_layers=2,\n",
    "       bidirectional=True,\n",
    "       batch_first=True)\n",
    "hidden = trial(bert(input_ids=sample['input_ids'],\n",
    "          attention_mask=sample['attention_mask'])[0])[1][0]"
   ]
  },
  {
   "cell_type": "code",
   "execution_count": null,
   "id": "e4dc7f31",
   "metadata": {},
   "outputs": [],
   "source": [
    "torch.flatten(hidden.transpose(0,1), start_dim = 1, end_dim= 2).shape"
   ]
  },
  {
   "cell_type": "code",
   "execution_count": null,
   "id": "4a5834b5",
   "metadata": {},
   "outputs": [],
   "source": [
    "class BERT_BiLSTM_FFF_Cls(nn.Module):\n",
    "\n",
    "    def __init__(self, bert, hidden_dim, bidirectional):\n",
    "        super(BERT_BiLSTM_FFF_Cls, self).__init__()\n",
    "        embedding_dim = bert.config.to_dict()['hidden_size']\n",
    "        self.hidden_dim = hidden_dim\n",
    "        self.bert = bert\n",
    "        self.bidirectional = bidirectional\n",
    "        \n",
    "        self.lstm = nn.LSTM(input_size=embedding_dim,\n",
    "                           hidden_size=self.hidden_dim,\n",
    "                           num_layers=2,\n",
    "                           bidirectional=self.bidirectional,\n",
    "                           batch_first=True)\n",
    "        \n",
    "        self.drop = nn.Dropout(p=0.25)\n",
    "        \n",
    "        self.out = nn.Sequential(\n",
    "                    nn.Linear(self.hidden_dim * 4, 512),\n",
    "                    nn.ReLU(),\n",
    "                    nn.Linear(512, 2)\n",
    "                   )\n",
    "\n",
    "    def forward(self, input_ids, attention_mask):\n",
    "        with torch.no_grad():\n",
    "            embeddings = self.bert(\n",
    "              input_ids=input_ids,\n",
    "              attention_mask=attention_mask\n",
    "            )[0]\n",
    "        \n",
    "        last_hidden = self.lstm(embeddings)[1][0]\n",
    "        \n",
    "        #hidden = [n layers * n directions, batch size, emb dim]\n",
    "        \n",
    "        last_hidden = self.drop(torch.flatten(last_hidden.transpose(0,1), start_dim=1, end_dim=2))\n",
    "        \n",
    "        return self.out(last_hidden)"
   ]
  },
  {
   "cell_type": "code",
   "execution_count": null,
   "id": "43d432ef",
   "metadata": {},
   "outputs": [],
   "source": [
    "def acc(pred,label):\n",
    "    pred = torch.round(pred.squeeze())\n",
    "    return torch.sum(pred == label.squeeze()).item()"
   ]
  },
  {
   "cell_type": "code",
   "execution_count": null,
   "id": "bced8a27",
   "metadata": {},
   "outputs": [],
   "source": [
    "hidden_dim = 512\n",
    "bidirectional = True\n",
    "EPOCHS = 10\n",
    "lr=0.001\n",
    "device = 'cpu'\n",
    "\n",
    "baseline_1 = BERT_BiLSTM_FFF_Cls(bert, hidden_dim, bidirectional)\n",
    "\n",
    "loss_fn = nn.BCEWithLogitsLoss()\n",
    "optimizer = torch.optim.Adam(baseline_1.parameters(), lr=lr)\n"
   ]
  },
  {
   "cell_type": "markdown",
   "id": "74185d87",
   "metadata": {},
   "source": [
    "## Training "
   ]
  },
  {
   "cell_type": "code",
   "execution_count": null,
   "id": "b730a992",
   "metadata": {},
   "outputs": [],
   "source": [
    "#TODO\n",
    "def train_epoch(\n",
    "  model, \n",
    "  data_loader, \n",
    "  loss_fn, \n",
    "  optimizer, \n",
    "  device, \n",
    "  n_examples\n",
    "):\n",
    "    model = model.train()\n",
    "\n",
    "    losses = []\n",
    "    correct_predictions = 0\n",
    "\n",
    "    for d in data_loader:\n",
    "        input_ids = d[\"input_ids\"].to(device)\n",
    "        attention_mask = d[\"attention_mask\"].to(device)\n",
    "        targets = d[\"targets\"].to(device)\n",
    "\n",
    "        outputs = model(\n",
    "                input_ids=input_ids,\n",
    "                attention_mask=attention_mask\n",
    "                )\n",
    "#         print(outputs.dtype)\n",
    "        _,preds = torch.max(outputs, dim = 1)\n",
    "        loss = loss_fn(outputs, targets)\n",
    "#         prediction_error += torch.sum(torch.abs(targets - outputs))\n",
    "        correct_predictions += torch.sum(preds == torch.max(targets, dim = 1)[1])\n",
    "        print(f'Iteration loss: {loss.item()}')\n",
    "        losses.append(loss.item())\n",
    "\n",
    "        loss.backward()\n",
    "        nn.utils.clip_grad_norm_(model.parameters(), max_norm=1.0)\n",
    "        optimizer.step()\n",
    "        optimizer.zero_grad()\n",
    "\n",
    "    return correct_predictions.double() / n_examples, np.mean(losses)"
   ]
  },
  {
   "cell_type": "code",
   "execution_count": null,
   "id": "5ea2e18d",
   "metadata": {},
   "outputs": [],
   "source": [
    "def eval_model(model, data_loader, loss_fn, device, n_examples):\n",
    "    model = model.eval()\n",
    "\n",
    "    losses = []\n",
    "    correct_predictions = 0\n",
    "\n",
    "    with torch.no_grad():\n",
    "        for d in data_loader:\n",
    "            input_ids = d[\"input_ids\"].to(device)\n",
    "            attention_mask = d[\"attention_mask\"].to(device)\n",
    "            targets = d[\"targets\"].to(device)\n",
    "\n",
    "            outputs = model(\n",
    "            input_ids=input_ids,\n",
    "            attention_mask=attention_mask\n",
    "            )\n",
    "            _, preds = torch.max(outputs, dim=1)\n",
    "#             prediction_error += torch.sum(torch.abs(targets - outputs))\n",
    "            loss = loss_fn(outputs, targets)\n",
    "            \n",
    "            correct_predictions += torch.sum(preds == torch.max(targets, dim = 1)[1])\n",
    "            losses.append(loss.item())\n",
    "\n",
    "    return correct_predictions.double() / n_examples, np.mean(losses)"
   ]
  },
  {
   "cell_type": "code",
   "execution_count": null,
   "id": "5e2154b0",
   "metadata": {},
   "outputs": [],
   "source": [
    "history = defaultdict(list)\n",
    "best_accuracy = 0\n",
    "\n",
    "for epoch in range(EPOCHS):\n",
    "\n",
    "    print(f'Epoch {epoch + 1}/{EPOCHS}')\n",
    "    print('-' * 10)\n",
    "\n",
    "    train_acc, train_loss = train_epoch(\n",
    "    baseline_1,\n",
    "    train_data_loader,    \n",
    "    loss_fn, \n",
    "    optimizer, \n",
    "    device,\n",
    "    len(X_train)\n",
    "    )\n",
    "\n",
    "    print(f'Train loss {train_loss} accuracy {train_acc}')\n",
    "\n",
    "    val_acc, val_loss = eval_model(\n",
    "    baseline_1,\n",
    "    test_data_loader,\n",
    "    loss_fn, \n",
    "    device, \n",
    "    len(X_test)\n",
    "    )\n",
    "\n",
    "    print(f'Val   loss {val_loss} accuracy {val_acc}')\n",
    "    print()\n",
    "\n",
    "    history['train_acc'].append(train_acc)\n",
    "    history['train_loss'].append(train_loss)\n",
    "    history['val_acc'].append(val_acc)\n",
    "    history['val_loss'].append(val_loss)\n",
    "\n",
    "    if val_acc > best_accuracy:\n",
    "        torch.save(model.state_dict(), 'best_model_state.bin')\n",
    "        best_accuracy = val_acc"
   ]
  }
 ],
 "metadata": {
  "kernelspec": {
   "display_name": "Python 3",
   "language": "python",
   "name": "python3"
  },
  "language_info": {
   "codemirror_mode": {
    "name": "ipython",
    "version": 3
   },
   "file_extension": ".py",
   "mimetype": "text/x-python",
   "name": "python",
   "nbconvert_exporter": "python",
   "pygments_lexer": "ipython3",
   "version": "3.8.8"
  },
  "toc": {
   "base_numbering": 1,
   "nav_menu": {},
   "number_sections": true,
   "sideBar": true,
   "skip_h1_title": false,
   "title_cell": "Table of Contents",
   "title_sidebar": "Contents",
   "toc_cell": false,
   "toc_position": {},
   "toc_section_display": true,
   "toc_window_display": false
  }
 },
 "nbformat": 4,
 "nbformat_minor": 5
}
