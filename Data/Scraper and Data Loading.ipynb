{
 "cells": [
  {
   "cell_type": "markdown",
   "id": "994250d0",
   "metadata": {},
   "source": [
    "## Scraping SemEval 2015"
   ]
  },
  {
   "cell_type": "code",
   "execution_count": null,
   "id": "0e93ca90",
   "metadata": {
    "scrolled": true
   },
   "outputs": [],
   "source": [
    "import snscrape.modules.twitter as twitterScraper\n",
    "from snscrape.base import ScraperException\n",
    "import pandas as pd\n",
    "import os\n",
    "from tqdm import tqdm"
   ]
  },
  {
   "cell_type": "code",
   "execution_count": null,
   "id": "d870f18f",
   "metadata": {},
   "outputs": [],
   "source": [
    "for dirname, _, filenames in os.walk('SemEval-2017_English_final/DOWNLOAD/Subtask_A/'):\n",
    "    for filename in filenames:\n",
    "        print(os.path.join(dirname, filename))"
   ]
  },
  {
   "cell_type": "code",
   "execution_count": null,
   "id": "0ef09996",
   "metadata": {},
   "outputs": [],
   "source": [
    "file = open('/Users/balechen/Desktop/Academic/Research/2022 DURF/Data/SemEval-2015/newid_weightedtweetdata.tsv')\n",
    "id_and_labels = file.readlines()"
   ]
  },
  {
   "cell_type": "code",
   "execution_count": null,
   "id": "84209939",
   "metadata": {},
   "outputs": [],
   "source": [
    "data = {'ID':[], 'label':[]}\n",
    "for line in id_and_labels:\n",
    "    line = line.strip().split('\\t')\n",
    "    data['ID'].append(line[1])\n",
    "    data['label'].append(line[2])\n",
    "    \n",
    "data = pd.DataFrame(data)\n"
   ]
  },
  {
   "cell_type": "code",
   "execution_count": null,
   "id": "59dbc056",
   "metadata": {},
   "outputs": [],
   "source": [
    "content = []\n",
    "for id_ in tqdm(data['ID']):\n",
    "    s = twitterScraper.TwitterTweetScraper(id_)\n",
    "    try:\n",
    "        tweet = [t for t in s.get_items()]\n",
    "        content.append(tweet[0].content)\n",
    "    except ScraperException or KeyError:\n",
    "        content.append('<unk>')\n",
    "    "
   ]
  },
  {
   "cell_type": "code",
   "execution_count": null,
   "id": "41189c94",
   "metadata": {},
   "outputs": [],
   "source": [
    "test = twitterScraper.TwitterTweetScraper('630159517058142208')\n",
    "for i in test.get_items():\n",
    "    print(i.content)"
   ]
  },
  {
   "cell_type": "code",
   "execution_count": null,
   "id": "c8d4168e",
   "metadata": {},
   "outputs": [],
   "source": [
    "sample = data.iloc[:len(content),:]\n",
    "sample['content'] = content\n"
   ]
  },
  {
   "cell_type": "code",
   "execution_count": null,
   "id": "d6070b33",
   "metadata": {},
   "outputs": [],
   "source": [
    "sample.to_excel('SemEval-2015-Scraped.xlsx')"
   ]
  },
  {
   "cell_type": "markdown",
   "id": "94cd37e4",
   "metadata": {},
   "source": [
    "## Loading Sem2018 Irony Detection"
   ]
  },
  {
   "cell_type": "code",
   "execution_count": null,
   "id": "28a5a3e6",
   "metadata": {},
   "outputs": [],
   "source": [
    "import pandas as pd"
   ]
  },
  {
   "cell_type": "code",
   "execution_count": null,
   "id": "7107204a",
   "metadata": {},
   "outputs": [],
   "source": [
    "ls = ['train','val','test']\n",
    "\n",
    "for i in ls:\n",
    "    with open('SemEval-2018-irony/' + i+'_'+'text.txt','r') as text:\n",
    "        content = text.readlines()\n",
    "    with open('SemEval-2018-irony/' + i+'_'+'labels.txt', 'r') as labels:\n",
    "        label = labels.readlines()\n",
    "    temp_df = pd.DataFrame()\n",
    "    temp_df[\"content\"] = content\n",
    "    temp_df['label'] = label\n",
    "    temp_df.to_excel('SemEval-2018-irony/'+i+'.xlsx')"
   ]
  },
  {
   "cell_type": "code",
   "execution_count": null,
   "id": "99c59c9b",
   "metadata": {},
   "outputs": [],
   "source": [
    "def scrape(path):\n",
    "    file = open(path)\n",
    "    id_and_labels = file.readlines()\n",
    "    data = {'ID':[], 'label':[]}\n",
    "    for line in id_and_labels:\n",
    "        line = line.strip().split('\\t')\n",
    "        data['ID'].append(line[0])\n",
    "        data['label'].append(line[1])\n",
    "\n",
    "    data = pd.DataFrame(data)\n",
    "    content = []\n",
    "    for id_ in tqdm(data['ID']):\n",
    "        s = twitterScraper.TwitterTweetScraper(id_)\n",
    "        try:\n",
    "            tweet = [t for t in s.get_items()]\n",
    "            content.append(tweet[0].content)\n",
    "        except (ScraperException, KeyError) as e:\n",
    "            content.append('<unk>')\n",
    "    return content"
   ]
  },
  {
   "cell_type": "code",
   "execution_count": null,
   "id": "fa56d7f3",
   "metadata": {},
   "outputs": [],
   "source": [
    "trial_data = pd.read_excel('/Users/balechen/Desktop/Academic/Research/2022 DURF/Data/SemEval-2015/task-11-trial-data.xls')"
   ]
  },
  {
   "cell_type": "code",
   "execution_count": null,
   "id": "2b9bc3ff",
   "metadata": {},
   "outputs": [],
   "source": [
    "content = []\n",
    "for id_ in tqdm(trial_data['Tweet ID']):\n",
    "    s = twitterScraper.TwitterTweetScraper(id_)\n",
    "    try:\n",
    "        tweet = [t for t in s.get_items()]\n",
    "        content.append(tweet[0].content)\n",
    "    except (ScraperException, KeyError) as e:\n",
    "        content.append('<unk>')\n",
    "        continue"
   ]
  },
  {
   "cell_type": "code",
   "execution_count": null,
   "id": "ab3b1e1f",
   "metadata": {},
   "outputs": [],
   "source": [
    "trial_data['content'] = content"
   ]
  },
  {
   "cell_type": "code",
   "execution_count": null,
   "id": "9b495350",
   "metadata": {},
   "outputs": [],
   "source": [
    "trial_data.to_excel('SemEval-2015-trial-data.xlsx')"
   ]
  },
  {
   "cell_type": "markdown",
   "id": "db3f95ea",
   "metadata": {},
   "source": [
    "## Sentiment of Emojis Dataset"
   ]
  },
  {
   "cell_type": "code",
   "execution_count": null,
   "id": "80721f07",
   "metadata": {},
   "outputs": [],
   "source": [
    "\n",
    "class TweetTrainingExample:\n",
    "    \"\"\"Structure holding a Tweet Training example\"\"\"\n",
    "\n",
    "    def __init__(self, id, text, label):\n",
    "        \"\"\"Create the training example\n",
    "        Args:\n",
    "            id: ID of the example\n",
    "            text: text of the example\n",
    "            label: example label\n",
    "        \"\"\"\n",
    "        self.id = id\n",
    "        self.text = text\n",
    "        self.label = label\n",
    "\n",
    "    def __repr__(self):\n",
    "        return str.format('{}, {}, {}\\n', self.id, self.label, self.text)"
   ]
  },
  {
   "cell_type": "code",
   "execution_count": null,
   "id": "5f761c02",
   "metadata": {},
   "outputs": [],
   "source": [
    "example_data = pd.read_pickle('emoji2vec data/examples.p')\n",
    "train_data = pd.read_pickle('emoji2vec data/train.p')\n",
    "test_data = pd.read_pickle('emoji2vec data/test.p')"
   ]
  },
  {
   "cell_type": "code",
   "execution_count": null,
   "id": "8c032f3e",
   "metadata": {},
   "outputs": [],
   "source": [
    "len(train_data),len(test_data)"
   ]
  },
  {
   "cell_type": "code",
   "execution_count": null,
   "id": "bcd8d0f2",
   "metadata": {},
   "outputs": [],
   "source": [
    "len(example_data)"
   ]
  },
  {
   "cell_type": "code",
   "execution_count": null,
   "id": "f649be9c",
   "metadata": {},
   "outputs": [],
   "source": [
    "ID, label, content = [],[],[]\n",
    "for i in train_data:\n",
    "    ID.append(i.id)\n",
    "    label.append(i.label)\n",
    "    content.append(i.text)\n",
    "    \n",
    "train = pd.DataFrame({'ID': ID, 'label':label, 'content':content})\n",
    "train.to_excel('emoji2vec_train.xlsx', index=False)\n"
   ]
  },
  {
   "cell_type": "code",
   "execution_count": null,
   "id": "df7b598a",
   "metadata": {},
   "outputs": [],
   "source": [
    "ID, label, content = [],[],[]\n",
    "for i in test_data:\n",
    "    ID.append(i.id)\n",
    "    label.append(i.label)\n",
    "    content.append(i.text)\n",
    "    \n",
    "train = pd.DataFrame({'ID': ID, 'label':label, 'content':content})\n",
    "train.to_excel('emoji2vec_test.xlsx', index=False)"
   ]
  }
 ],
 "metadata": {
  "kernelspec": {
   "display_name": "Python 3",
   "language": "python",
   "name": "python3"
  },
  "language_info": {
   "codemirror_mode": {
    "name": "ipython",
    "version": 3
   },
   "file_extension": ".py",
   "mimetype": "text/x-python",
   "name": "python",
   "nbconvert_exporter": "python",
   "pygments_lexer": "ipython3",
   "version": "3.8.8"
  },
  "toc": {
   "base_numbering": 1,
   "nav_menu": {},
   "number_sections": true,
   "sideBar": true,
   "skip_h1_title": false,
   "title_cell": "Table of Contents",
   "title_sidebar": "Contents",
   "toc_cell": false,
   "toc_position": {},
   "toc_section_display": true,
   "toc_window_display": false
  }
 },
 "nbformat": 4,
 "nbformat_minor": 5
}
