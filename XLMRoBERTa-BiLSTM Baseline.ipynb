{
 "cells": [
  {
   "cell_type": "code",
   "execution_count": 2,
   "metadata": {
    "execution": {
     "iopub.execute_input": "2022-07-20T12:01:54.958126Z",
     "iopub.status.busy": "2022-07-20T12:01:54.957831Z",
     "iopub.status.idle": "2022-07-20T12:01:57.306255Z",
     "shell.execute_reply": "2022-07-20T12:01:57.305253Z",
     "shell.execute_reply.started": "2022-07-20T12:01:54.958099Z"
    }
   },
   "outputs": [],
   "source": [
    "import pandas as pd\n",
    "import numpy as np\n",
    "import torch\n",
    "import torch.nn as nn\n",
    "import torch.nn.functional as F\n",
    "from nltk.corpus import stopwords \n",
    "import string\n",
    "import emoji\n",
    "import re\n",
    "import seaborn as sns\n",
    "from tqdm import tqdm\n",
    "from collections import defaultdict\n",
    "import matplotlib.pyplot as plt\n",
    "from torch.utils.data import TensorDataset, DataLoader, Dataset\n",
    "from sklearn.model_selection import train_test_split"
   ]
  },
  {
   "cell_type": "code",
   "execution_count": 3,
   "metadata": {
    "execution": {
     "iopub.execute_input": "2022-07-20T12:01:57.308386Z",
     "iopub.status.busy": "2022-07-20T12:01:57.307717Z",
     "iopub.status.idle": "2022-07-20T12:01:58.579097Z",
     "shell.execute_reply": "2022-07-20T12:01:58.577885Z",
     "shell.execute_reply.started": "2022-07-20T12:01:57.308338Z"
    }
   },
   "outputs": [],
   "source": [
    "# data = pd.read_excel('Data/SemEval-2015-Scraped.xlsx')[['content', 'label']]\n",
    "# test = pd.read_excel('Data/SemEval-2015-trial-data.xlsx')[['content', 'label']]\n",
    "\n",
    "data = pd.read_excel('Data/emoji2vec_data/emoji2vec_train.xlsx')[['content', 'label']]\n",
    "test = pd.read_excel('Data/emoji2vec_data/emoji2vec_test.xlsx')[['content', 'label']]"
   ]
  },
  {
   "cell_type": "code",
   "execution_count": 4,
   "metadata": {
    "execution": {
     "iopub.execute_input": "2022-07-20T12:01:58.581924Z",
     "iopub.status.busy": "2022-07-20T12:01:58.581556Z",
     "iopub.status.idle": "2022-07-20T12:01:58.596195Z",
     "shell.execute_reply": "2022-07-20T12:01:58.595361Z",
     "shell.execute_reply.started": "2022-07-20T12:01:58.581885Z"
    }
   },
   "outputs": [
    {
     "data": {
      "text/plain": [
       "<torch._C.Generator at 0x7fa7707b6950>"
      ]
     },
     "execution_count": 4,
     "metadata": {},
     "output_type": "execute_result"
    }
   ],
   "source": [
    "import random\n",
    "\n",
    "SEED = 2022\n",
    "\n",
    "random.seed(SEED)\n",
    "np.random.seed(SEED)\n",
    "torch.manual_seed(SEED)"
   ]
  },
  {
   "cell_type": "code",
   "execution_count": 6,
   "metadata": {
    "execution": {
     "iopub.execute_input": "2022-07-20T12:03:34.914030Z",
     "iopub.status.busy": "2022-07-20T12:03:34.913438Z",
     "iopub.status.idle": "2022-07-20T12:03:34.922332Z",
     "shell.execute_reply": "2022-07-20T12:03:34.921069Z",
     "shell.execute_reply.started": "2022-07-20T12:03:34.913993Z"
    }
   },
   "outputs": [],
   "source": [
    "def emoji2description(text):  \n",
    "    return emoji.replace_emoji(text, replace=lambda chars, data_dict: ' '.join(data_dict['en'].split('_')).strip(':'))\n",
    "\n",
    "def emoji2concat_description(text):\n",
    "    emoji_list = emoji.emoji_list(text)\n",
    "    ret = emoji.replace_emoji(text, replace='').strip()\n",
    "    for json in emoji_list:\n",
    "        this_desc = ' '.join(emoji.EMOJI_DATA[json['emoji']]['en'].split('_')).strip(':')\n",
    "        ret += ' ' + this_desc\n",
    "    return ret\n",
    "\n",
    "def extract_emojis(text):\n",
    "    emoji_list = emoji.emoji_list(text)\n",
    "#     print(emoji_list)\n",
    "    ret = []\n",
    "    for json in emoji_list:\n",
    "        this_emoji = json['emoji']\n",
    "        ret.append(this_emoji)\n",
    "    return ' '.join(ret)\n",
    "\n",
    "def keep_only_emojis(data):\n",
    "    cnt = data['content'].apply(emoji.emoji_count)\n",
    "    return data[cnt >= 1]\n",
    "\n",
    "def preprocess_string(s):\n",
    "    # This cleans out all emojis!!!\n",
    "    # Remove all non-word characters (everything except numbers and letters)\n",
    "    s = re.sub(r\"[^\\w\\s]\", '', s)\n",
    "    # Replace all runs of whitespaces with no space\n",
    "    s = re.sub(r\"\\s+\", '', s)\n",
    "    # replace digits with no space\n",
    "    s = re.sub(r\"\\d\", '', s)\n",
    "    return s"
   ]
  },
  {
   "cell_type": "code",
   "execution_count": 7,
   "metadata": {
    "execution": {
     "iopub.execute_input": "2022-07-20T10:57:58.237417Z",
     "iopub.status.busy": "2022-07-20T10:57:58.237077Z",
     "iopub.status.idle": "2022-07-20T10:57:58.248400Z",
     "shell.execute_reply": "2022-07-20T10:57:58.247309Z",
     "shell.execute_reply.started": "2022-07-20T10:57:58.237388Z"
    }
   },
   "outputs": [
    {
     "data": {
      "text/plain": [
       "'😄 😔 💗'"
      ]
     },
     "execution_count": 7,
     "metadata": {},
     "output_type": "execute_result"
    }
   ],
   "source": [
    "extract_emojis(\"I love 😄 it 😔 💗\")"
   ]
  },
  {
   "cell_type": "code",
   "execution_count": 19,
   "metadata": {
    "execution": {
     "iopub.execute_input": "2022-07-20T12:01:58.609699Z",
     "iopub.status.busy": "2022-07-20T12:01:58.608476Z",
     "iopub.status.idle": "2022-07-20T12:01:58.988684Z",
     "shell.execute_reply": "2022-07-20T12:01:58.987700Z",
     "shell.execute_reply.started": "2022-07-20T12:01:58.609661Z"
    }
   },
   "outputs": [],
   "source": [
    "from transformers import AutoTokenizer, AutoModel"
   ]
  },
  {
   "cell_type": "code",
   "execution_count": 20,
   "metadata": {
    "execution": {
     "iopub.execute_input": "2022-07-20T12:01:58.990812Z",
     "iopub.status.busy": "2022-07-20T12:01:58.990273Z",
     "iopub.status.idle": "2022-07-20T12:02:15.945973Z",
     "shell.execute_reply": "2022-07-20T12:02:15.944938Z",
     "shell.execute_reply.started": "2022-07-20T12:01:58.990776Z"
    }
   },
   "outputs": [],
   "source": [
    "tokenizer = AutoTokenizer.from_pretrained('xlm-roberta-base')"
   ]
  },
  {
   "cell_type": "code",
   "execution_count": 21,
   "metadata": {
    "execution": {
     "iopub.execute_input": "2022-07-20T12:02:15.947862Z",
     "iopub.status.busy": "2022-07-20T12:02:15.947501Z",
     "iopub.status.idle": "2022-07-20T12:02:20.826500Z",
     "shell.execute_reply": "2022-07-20T12:02:20.825467Z",
     "shell.execute_reply.started": "2022-07-20T12:02:15.947827Z"
    }
   },
   "outputs": [
    {
     "data": {
      "text/plain": [
       "'<s> I love it 😄 😔 💗</s>'"
      ]
     },
     "execution_count": 21,
     "metadata": {},
     "output_type": "execute_result"
    }
   ],
   "source": [
    "# test if the tokenizer has emojis in its vocab\n",
    "tokenizer.decode(tokenizer.encode('I love it 😄 😔 💗'))"
   ]
  },
  {
   "cell_type": "code",
   "execution_count": 28,
   "metadata": {
    "execution": {
     "iopub.execute_input": "2022-07-20T12:12:43.197331Z",
     "iopub.status.busy": "2022-07-20T12:12:43.196730Z",
     "iopub.status.idle": "2022-07-20T12:12:43.606184Z",
     "shell.execute_reply": "2022-07-20T12:12:43.605198Z",
     "shell.execute_reply.started": "2022-07-20T12:12:43.197292Z"
    }
   },
   "outputs": [],
   "source": [
    "#data = keep_only_emojis(data)\n",
    "#test = keep_only_emojis(test)"
   ]
  },
  {
   "cell_type": "code",
   "execution_count": 8,
   "metadata": {
    "execution": {
     "iopub.execute_input": "2022-07-20T12:12:45.701772Z",
     "iopub.status.busy": "2022-07-20T12:12:45.701424Z",
     "iopub.status.idle": "2022-07-20T12:12:45.708936Z",
     "shell.execute_reply": "2022-07-20T12:12:45.707661Z",
     "shell.execute_reply.started": "2022-07-20T12:12:45.701743Z"
    }
   },
   "outputs": [
    {
     "name": "stdout",
     "output_type": "stream",
     "text": [
      "shape of train data is (51679,)\n",
      "shape of test data is (12920,)\n"
     ]
    }
   ],
   "source": [
    "# X,y = data['content'].values, data['label'].values\n",
    "# X_train, X_test, y_train, y_test = train_test_split(X, y)\n",
    "X_train, y_train = data['content'].values, data['label'].values\n",
    "X_test, y_test = test['content'].values, test['label'].values\n",
    "print(f'shape of train data is {X_train.shape}')\n",
    "print(f'shape of test data is {X_test.shape}')"
   ]
  },
  {
   "cell_type": "code",
   "execution_count": 29,
   "metadata": {
    "execution": {
     "iopub.execute_input": "2022-07-20T12:02:43.973060Z",
     "iopub.status.busy": "2022-07-20T12:02:43.971989Z",
     "iopub.status.idle": "2022-07-20T12:02:43.984083Z",
     "shell.execute_reply": "2022-07-20T12:02:43.983222Z",
     "shell.execute_reply.started": "2022-07-20T12:02:43.973021Z"
    }
   },
   "outputs": [],
   "source": [
    "class TweetDataset(Dataset):\n",
    "\n",
    "    def __init__(self, tweets, targets, tokenizer, max_len):\n",
    "        self.tweets = tweets\n",
    "        self.targets = targets\n",
    "        self.tokenizer = tokenizer\n",
    "        self.max_len = max_len\n",
    "\n",
    "    def __len__(self):\n",
    "        return len(self.tweets)\n",
    "\n",
    "    def __getitem__(self, item):\n",
    "        tweets = extract_emojis(str(self.tweets[item]))\n",
    "        target = self.targets[item]\n",
    "\n",
    "        encoding = self.tokenizer.encode_plus(\n",
    "          tweets,\n",
    "          add_special_tokens=True,\n",
    "          max_length=self.max_len,\n",
    "          return_token_type_ids=False,\n",
    "          padding='max_length',\n",
    "          return_attention_mask=True,\n",
    "          return_tensors='pt',\n",
    "        )\n",
    "\n",
    "        return {\n",
    "          'tweet_text': tweets,\n",
    "          'input_ids': encoding['input_ids'].flatten(),\n",
    "          'attention_mask': encoding['attention_mask'].flatten(),\n",
    "          'targets': torch.tensor(target, dtype=torch.float32)\n",
    "        }\n",
    "    \n",
    "def create_data_loader(X, y, tokenizer, max_len, batch_size):\n",
    "    ds = TweetDataset(\n",
    "    tweets=X,\n",
    "    targets=y,\n",
    "    tokenizer=tokenizer,\n",
    "    max_len=max_len\n",
    "    )\n",
    "\n",
    "    return DataLoader(\n",
    "    ds,\n",
    "    batch_size=batch_size)"
   ]
  },
  {
   "cell_type": "code",
   "execution_count": 31,
   "metadata": {
    "execution": {
     "iopub.execute_input": "2022-07-20T12:12:59.202019Z",
     "iopub.status.busy": "2022-07-20T12:12:59.201347Z",
     "iopub.status.idle": "2022-07-20T12:12:59.207827Z",
     "shell.execute_reply": "2022-07-20T12:12:59.206382Z",
     "shell.execute_reply.started": "2022-07-20T12:12:59.201979Z"
    }
   },
   "outputs": [],
   "source": [
    "BATCH_SIZE = 16\n",
    "MAX_LEN = 128\n",
    "\n",
    "train_data_loader = create_data_loader(X_train, y_train, tokenizer, MAX_LEN, BATCH_SIZE)\n",
    "test_data_loader = create_data_loader(X_test, y_test, tokenizer, MAX_LEN, BATCH_SIZE)"
   ]
  },
  {
   "cell_type": "code",
   "execution_count": 33,
   "metadata": {
    "execution": {
     "iopub.execute_input": "2022-07-20T12:13:04.805266Z",
     "iopub.status.busy": "2022-07-20T12:13:04.804922Z",
     "iopub.status.idle": "2022-07-20T12:13:04.820097Z",
     "shell.execute_reply": "2022-07-20T12:13:04.818891Z",
     "shell.execute_reply.started": "2022-07-20T12:13:04.805238Z"
    }
   },
   "outputs": [
    {
     "name": "stdout",
     "output_type": "stream",
     "text": [
      "dict_keys(['tweet_text', 'input_ids', 'attention_mask', 'targets'])\n",
      "torch.Size([16, 128])\n",
      "torch.Size([16, 128])\n",
      "torch.Size([16])\n"
     ]
    }
   ],
   "source": [
    "dataiter = iter(train_data_loader)\n",
    "sample = dataiter.next()\n",
    "print(sample.keys())\n",
    "print(sample['input_ids'].shape)\n",
    "print(sample['attention_mask'].shape)\n",
    "print(sample['targets'].shape)"
   ]
  },
  {
   "cell_type": "markdown",
   "metadata": {},
   "source": [
    "## Model"
   ]
  },
  {
   "cell_type": "code",
   "execution_count": 19,
   "metadata": {
    "execution": {
     "iopub.execute_input": "2022-07-20T12:03:44.572103Z",
     "iopub.status.busy": "2022-07-20T12:03:44.571752Z",
     "iopub.status.idle": "2022-07-20T12:04:45.105761Z",
     "shell.execute_reply": "2022-07-20T12:04:45.104856Z",
     "shell.execute_reply.started": "2022-07-20T12:03:44.572072Z"
    }
   },
   "outputs": [],
   "source": [
    "bert = AutoModel.from_pretrained('xlm-roberta-base')"
   ]
  },
  {
   "cell_type": "code",
   "execution_count": 20,
   "metadata": {
    "execution": {
     "iopub.execute_input": "2022-07-20T12:04:54.944492Z",
     "iopub.status.busy": "2022-07-20T12:04:54.943536Z",
     "iopub.status.idle": "2022-07-20T12:04:54.955459Z",
     "shell.execute_reply": "2022-07-20T12:04:54.954066Z",
     "shell.execute_reply.started": "2022-07-20T12:04:54.944437Z"
    }
   },
   "outputs": [],
   "source": [
    "class BERT_BiLSTM_FFF_Cls(nn.Module):\n",
    "\n",
    "    def __init__(self, bert, hidden_dim, bidirectional):\n",
    "        super(BERT_BiLSTM_FFF_Cls, self).__init__()\n",
    "        embedding_dim = bert.config.to_dict()['hidden_size']\n",
    "        self.hidden_dim = hidden_dim\n",
    "        self.bert = bert\n",
    "        self.bidirectional = bidirectional\n",
    "        \n",
    "        self.lstm = nn.LSTM(input_size=embedding_dim,\n",
    "                           hidden_size=self.hidden_dim,\n",
    "                           num_layers=2,\n",
    "                           bidirectional=self.bidirectional,\n",
    "                           batch_first=True)\n",
    "        \n",
    "        self.drop = nn.Dropout(p=0.25)\n",
    "        \n",
    "        self.out = nn.Sequential(\n",
    "                    nn.Linear(self.hidden_dim * 4, 512),\n",
    "                    nn.ReLU(),\n",
    "                    nn.Linear(512, 1)\n",
    "                   )\n",
    "\n",
    "    def forward(self, input_ids, attention_mask):\n",
    "        with torch.no_grad():\n",
    "            embeddings = self.bert(\n",
    "              input_ids=input_ids,\n",
    "              attention_mask=attention_mask\n",
    "            )[0]\n",
    "        \n",
    "        last_hidden = self.lstm(embeddings)[1][0]\n",
    "        \n",
    "        #hidden = [n layers * n directions, batch size, emb dim]\n",
    "        \n",
    "        last_hidden = self.drop(torch.flatten(last_hidden.transpose(0,1), start_dim=1, end_dim=2))\n",
    "        \n",
    "        return self.out(last_hidden).ravel()"
   ]
  },
  {
   "cell_type": "code",
   "execution_count": 33,
   "metadata": {
    "execution": {
     "iopub.execute_input": "2022-07-20T12:13:10.497376Z",
     "iopub.status.busy": "2022-07-20T12:13:10.496707Z",
     "iopub.status.idle": "2022-07-20T12:13:10.611532Z",
     "shell.execute_reply": "2022-07-20T12:13:10.610440Z",
     "shell.execute_reply.started": "2022-07-20T12:13:10.497336Z"
    }
   },
   "outputs": [],
   "source": [
    "hidden_dim = 512\n",
    "bidirectional = True\n",
    "EPOCHS = 20\n",
    "lr=0.001\n",
    "device = 'cuda' if torch.cuda.is_available() else 'cpu'\n",
    "print(device)\n",
    "\n",
    "baseline_1 = BERT_BiLSTM_FFF_Cls(bert, hidden_dim, bidirectional)\n",
    "\n",
    "loss_fn = nn.MSELoss()\n",
    "optimizer = torch.optim.Adam(baseline_1.parameters(), lr=lr)\n"
   ]
  },
  {
   "cell_type": "markdown",
   "metadata": {},
   "source": [
    "## Training "
   ]
  },
  {
   "cell_type": "code",
   "execution_count": 22,
   "metadata": {
    "execution": {
     "iopub.execute_input": "2022-07-20T12:04:59.123986Z",
     "iopub.status.busy": "2022-07-20T12:04:59.122965Z",
     "iopub.status.idle": "2022-07-20T12:04:59.169595Z",
     "shell.execute_reply": "2022-07-20T12:04:59.168455Z",
     "shell.execute_reply.started": "2022-07-20T12:04:59.123932Z"
    }
   },
   "outputs": [],
   "source": [
    "def train_epoch(\n",
    "  model, \n",
    "  data_loader, \n",
    "  loss_fn, \n",
    "  optimizer, \n",
    "  device, \n",
    "  n_examples\n",
    "):\n",
    "    model = model.train()\n",
    "\n",
    "    losses = []\n",
    "    correct_predictions = 0\n",
    "\n",
    "    for d in tqdm(data_loader):\n",
    "        input_ids = d[\"input_ids\"].to(device)\n",
    "        attention_mask = d[\"attention_mask\"].to(device)\n",
    "        targets = d[\"targets\"].to(device)\n",
    "\n",
    "        outputs = model(\n",
    "                input_ids=input_ids,\n",
    "                attention_mask=attention_mask\n",
    "                )\n",
    "#         print(outputs.dtype)\n",
    "#         _,preds = torch.max(outputs, dim = 1)\n",
    "        loss = loss_fn(outputs, targets)\n",
    "#         prediction_error += torch.sum(torch.abs(targets - outputs))\n",
    "#         correct_predictions += torch.sum(preds == torch.max(targets, dim = 1)[1])\n",
    "#         print(f'Iteration loss: {loss.item()}')\n",
    "        losses.append(loss.item())\n",
    "\n",
    "        loss.backward()\n",
    "        nn.utils.clip_grad_norm_(model.parameters(), max_norm=1.0)\n",
    "        optimizer.step()\n",
    "        optimizer.zero_grad()\n",
    "\n",
    "#     return correct_predictions.double() / n_examples, np.mean(losses)\n",
    "    return np.mean(losses), np.mean(losses)"
   ]
  },
  {
   "cell_type": "code",
   "execution_count": 60,
   "metadata": {
    "execution": {
     "iopub.execute_input": "2022-07-20T12:40:59.412385Z",
     "iopub.status.busy": "2022-07-20T12:40:59.412030Z",
     "iopub.status.idle": "2022-07-20T12:40:59.423668Z",
     "shell.execute_reply": "2022-07-20T12:40:59.422489Z",
     "shell.execute_reply.started": "2022-07-20T12:40:59.412355Z"
    }
   },
   "outputs": [],
   "source": [
    "def eval_model(model, data_loader, loss_fn, device, n_examples):\n",
    "    model = model.eval()\n",
    "    \n",
    "    losses = []\n",
    "    correct_predictions = 0\n",
    "    \n",
    "    output_all = torch.tensor([])\n",
    "    target_all = torch.tensor([])\n",
    "    output_all, target_all = output_all.to(device), target_all.to(device)\n",
    "    with torch.no_grad():\n",
    "        for d in data_loader:\n",
    "            \n",
    "            \n",
    "            input_ids = d[\"input_ids\"].to(device)\n",
    "            attention_mask = d[\"attention_mask\"].to(device)\n",
    "            targets = d[\"targets\"].to(device)\n",
    "            \n",
    "            outputs = model(\n",
    "            input_ids=input_ids,\n",
    "            attention_mask=attention_mask\n",
    "            )\n",
    "            target_all = torch.cat([target_all,targets])\n",
    "            output_all = torch.cat([output_all,outputs])\n",
    "#             _, preds = torch.max(outputs, dim=1)\n",
    "#             prediction_error += torch.sum(torch.abs(targets - outputs))\n",
    "            loss = loss_fn(outputs, targets)\n",
    "            \n",
    "#             correct_predictions += torch.sum(preds == torch.max(targets, dim = 1)[1])\n",
    "            losses.append(loss.item())\n",
    "#     return correct_predictions.double() / n_examples, np.mean(losses)\n",
    "    return nn.functional.cosine_similarity(output_all, target_all, dim=0), np.mean(losses)"
   ]
  },
  {
   "cell_type": "code",
   "execution_count": 61,
   "metadata": {
    "execution": {
     "iopub.execute_input": "2022-07-20T12:41:01.615077Z",
     "iopub.status.busy": "2022-07-20T12:41:01.614705Z",
     "iopub.status.idle": "2022-07-20T12:43:06.249693Z",
     "shell.execute_reply": "2022-07-20T12:43:06.248079Z",
     "shell.execute_reply.started": "2022-07-20T12:41:01.615047Z"
    }
   },
   "outputs": [],
   "source": [
    "history = defaultdict(list)\n",
    "best_accuracy = 0\n",
    "baseline_1.to(device)\n",
    "\n",
    "for epoch in range(EPOCHS):\n",
    "\n",
    "    print(f'Epoch {epoch + 1}/{EPOCHS}')\n",
    "    print('-' * 10)\n",
    "\n",
    "    train_acc, train_loss = train_epoch(\n",
    "    baseline_1,\n",
    "    train_data_loader,    \n",
    "    loss_fn, \n",
    "    optimizer, \n",
    "    device,\n",
    "    len(X_train)\n",
    "    )\n",
    "\n",
    "    print(f'Train loss {train_loss} accuracy {train_acc}')\n",
    "\n",
    "    val_acc, val_loss = eval_model(\n",
    "    baseline_1,\n",
    "    test_data_loader,\n",
    "    loss_fn, \n",
    "    device, \n",
    "    len(X_test)\n",
    "    )\n",
    "\n",
    "    print(f'Val   loss {val_loss} cos sim {val_acc}')\n",
    "    print()\n",
    "\n",
    "    history['train_acc'].append(train_acc)\n",
    "    history['train_loss'].append(train_loss)\n",
    "    history['val_acc'].append(val_acc)\n",
    "    history['val_loss'].append(val_loss)\n",
    "\n",
    "    if val_acc > best_accuracy:\n",
    "        torch.save(baseline_1.state_dict(), 'best_model_state.bin')\n",
    "        best_accuracy = val_acc"
   ]
  }
 ],
 "metadata": {
  "kernelspec": {
   "display_name": "Python 3",
   "language": "python",
   "name": "python3"
  },
  "language_info": {
   "codemirror_mode": {
    "name": "ipython",
    "version": 3
   },
   "file_extension": ".py",
   "mimetype": "text/x-python",
   "name": "python",
   "nbconvert_exporter": "python",
   "pygments_lexer": "ipython3",
   "version": "3.8.8"
  },
  "toc": {
   "base_numbering": 1,
   "nav_menu": {},
   "number_sections": true,
   "sideBar": true,
   "skip_h1_title": false,
   "title_cell": "Table of Contents",
   "title_sidebar": "Contents",
   "toc_cell": false,
   "toc_position": {},
   "toc_section_display": true,
   "toc_window_display": false
  },
  "vscode": {
   "interpreter": {
    "hash": "da57863e9571986c59eafab5117c6a726a2bee68474183228735a72b1e0aa1a7"
   }
  }
 },
 "nbformat": 4,
 "nbformat_minor": 4
}
